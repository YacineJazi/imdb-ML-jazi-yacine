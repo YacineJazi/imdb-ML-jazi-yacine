{
 "cells": [
  {
   "cell_type": "code",
   "execution_count": 1,
   "metadata": {},
   "outputs": [],
   "source": [
    "import argparse\n",
    "import json\n",
    "import os\n",
    "import sys\n",
    "import traceback\n",
    "from glob import glob\n",
    "import math\n",
    "import random\n",
    "import numpy as np\n",
    "from dotenv import load_dotenv\n",
    "from azureml.core import Dataset, Datastore, Experiment, Run, Workspace\n",
    "from azureml.core.authentication import AzureCliAuthentication\n",
    "from sklearn.preprocessing import LabelEncoder, OneHotEncoder\n",
    "from dotnetcore2 import runtime\n",
    "runtime.version = (\"18\", \"10\", \"0\")"
   ]
  },
  {
   "cell_type": "code",
   "execution_count": 3,
   "metadata": {},
   "outputs": [],
   "source": [
    "    #cli_auth = AzureCliAuthentication()\n",
    "    #Get env variables\n",
    "    \n",
    "    #Create folder if not exist\n",
    "    train_test_data_folder = os.path.join(os.getcwd(), 'data/tmp/train_test_data')\n",
    "    os.makedirs(train_test_data_folder, exist_ok=True)\n",
    "\n",
    "    #Connect to workspace\n",
    "    ws = Workspace.from_config('config.json')\n",
    "\n",
    "    #Get data from datastore\n",
    "    datastore = Datastore(ws)\n",
    "    dataset = Dataset.get_by_name(ws, name='ratings')\n",
    "    dataset = dataset.to_pandas_dataframe()\n",
    "    dataset"
   ]
  },
  {
   "cell_type": "code",
   "execution_count": null,
   "metadata": {},
   "outputs": [],
   "source": [
    "# Formatting the dataset.\n",
    "dataset= dataset.rename({0: \"reviewer\", 1: \"movie\", 2: \"score\"},axis=\"columns\")\n",
    "dataset= dataset.pivot(index=\"reviewer\",columns=\"movie\",values=\"score\").fillna(0).astype(int)\n",
    "\n",
    "i=1\n",
    "for index in dataset.columns:\n",
    "    while(index!=i):\n",
    "        dataset.insert(i,i,[0]*6040)\n",
    "        i+=1\n",
    "    i+=1\n",
    "dataset.add_prefix('movie')\n",
    "dataset"
   ]
  },
  {
   "cell_type": "code",
   "execution_count": null,
   "metadata": {},
   "outputs": [],
   "source": [
    "# Compile the trainig set and test set\n",
    "import random\n",
    "dataset_test = dataset \n",
    "dataset_train = dataset\n",
    "for index, row in dataset_train.iterrows():\n",
    "    non_null=row.to_numpy().nonzero()[0]\n",
    "    indexes = random.sample(range(0,len(row.to_numpy().nonzero()[0])-1), 10)\n",
    "    for i in indexes:\n",
    "        dataset_train.iat[index-1,non_null[i]]=0"
   ]
  },
  {
   "cell_type": "code",
   "execution_count": null,
   "metadata": {},
   "outputs": [],
   "source": [
    "datastore.upload(src_dir=train_test_data_folder, target_path='imdb_train_test',overwrite=True)\n",
    "    train_test_data = Dataset.File.from_files([(datastore, 'imdb_train_test')],validate=False)\n",
    "    train_test_data.register(\n",
    "    workspace=ws,\n",
    "    name=\"imdb_train_test\",\n",
    "    description=\"Processed train- and testdata for consumption by model\",\n",
    "    create_new_version=True)"
   ]
  }
 ],
 "metadata": {
  "interpreter": {
   "hash": "07521bee647cb038a9765ea0ecd3eab4d12b5f5b9eec9493f2d4acdd5b019b2b"
  },
  "kernelspec": {
   "display_name": "Python 3.9.7 64-bit ('base': conda)",
   "language": "python",
   "name": "python3"
  },
  "language_info": {
   "codemirror_mode": {
    "name": "ipython",
    "version": 3
   },
   "file_extension": ".py",
   "mimetype": "text/x-python",
   "name": "python",
   "nbconvert_exporter": "python",
   "pygments_lexer": "ipython3",
   "version": "3.9.7"
  },
  "orig_nbformat": 4
 },
 "nbformat": 4,
 "nbformat_minor": 2
}
